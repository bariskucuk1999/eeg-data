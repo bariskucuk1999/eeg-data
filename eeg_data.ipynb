{
 "cells": [
  {
   "cell_type": "code",
   "execution_count": 2,
   "id": "e504f3f3",
   "metadata": {},
   "outputs": [],
   "source": [
    "import pandas as pd\n",
    "import os\n",
    "import numpy as np"
   ]
  },
  {
   "cell_type": "markdown",
   "id": "43cd2d20",
   "metadata": {},
   "source": [
    "Her denek için dosya başlıklarındaki 3 haneli sayılar deney numarasını(deneme sayısını) temsil etmektedir."
   ]
  },
  {
   "cell_type": "markdown",
   "id": "359464f4",
   "metadata": {},
   "source": [
    "# EEG Datasetindeki tar.gz Dosyalarının Listelenmesi"
   ]
  },
  {
   "cell_type": "markdown",
   "id": "fdcde313",
   "metadata": {},
   "source": [
    "**Denek 1: Alkolikler**"
   ]
  },
  {
   "cell_type": "code",
   "execution_count": 3,
   "id": "7c396f63",
   "metadata": {},
   "outputs": [
    {
     "name": "stdout",
     "output_type": "stream",
     "text": [
      "['co2a0000364', 'co2a0000365', 'co2a0000368', 'co2a0000369', 'co2a0000370', 'co2a0000371', 'co2a0000372', 'co2a0000375', 'co2a0000377', 'co2a0000378', 'co2a0000379', 'co2a0000380', 'co2a0000381', 'co2a0000382', 'co2a0000384', 'co2a0000385', 'co2a0000386', 'co2a0000387', 'co2a0000388', 'co2a0000390', 'co2a0000392', 'co2a0000394', 'co2a0000395', 'co2a0000396', 'co2a0000398', 'co2a0000400', 'co2a0000402', 'co2a0000403', 'co2a0000404', 'co2a0000405', 'co2a0000406', 'co2a0000407', 'co2a0000409', 'co2a0000410', 'co2a0000411', 'co2a0000412', 'co2a0000414', 'co2a0000415', 'co2a0000416', 'co2a0000417', 'co2a0000418', 'co2a0000419', 'co2a0000421', 'co2a0000422', 'co2a0000423', 'co2a0000424', 'co2a0000425', 'co2a0000426', 'co2a0000427', 'co2a0000428', 'co2a0000429', 'co2a0000430', 'co2a0000432', 'co2a0000433', 'co2a0000434', 'co2a0000435', 'co2a0000436', 'co2a0000437', 'co2a0000438', 'co2a0000439', 'co2a0000440', 'co2a0000443', 'co2a0000444', 'co2a0000445', 'co2a0000447', 'co3a0000448', 'co3a0000450', 'co3a0000451', 'co3a0000453', 'co3a0000454', 'co3a0000455', 'co3a0000456', 'co3a0000457', 'co3a0000458', 'co3a0000459', 'co3a0000460', 'co3a0000461']\n"
     ]
    }
   ],
   "source": [
    "file_names_a = os.listdir('C:/Users/bbari/OneDrive/Belgeler/eeg_database/extracted/a')\n",
    "print(file_names_a)"
   ]
  },
  {
   "cell_type": "markdown",
   "id": "f82fba75",
   "metadata": {},
   "source": [
    "**Denek 2: Kontroller**"
   ]
  },
  {
   "cell_type": "code",
   "execution_count": 4,
   "id": "4aba6c0a",
   "metadata": {},
   "outputs": [
    {
     "name": "stdout",
     "output_type": "stream",
     "text": [
      "['co2c0000337', 'co2c0000338', 'co2c0000339', 'co2c0000340', 'co2c0000341', 'co2c0000342', 'co2c0000344', 'co2c0000345', 'co2c0000346', 'co2c0000347', 'co2c0000348', 'co2c0000351', 'co2c0000352', 'co2c0000354', 'co2c0000355', 'co2c0000356', 'co2c0000357', 'co2c0000359', 'co2c0000362', 'co2c0000363', 'co2c0000364', 'co2c0000367', 'co2c0000370', 'co2c0000371', 'co2c0000373', 'co2c0000374', 'co2c0000378', 'co2c0000379', 'co2c0000381', 'co2c0000382', 'co2c0000383', 'co2c0000384', 'co2c0000387', 'co2c0000388', 'co2c0000389', 'co2c0000390', 'co2c0000391', 'co2c0000392', 'co2c0000393', 'co2c0000394', 'co2c0000395', 'co2c0000396', 'co2c0000397', 'co2c1000367', 'co3c0000402']\n"
     ]
    }
   ],
   "source": [
    "file_names_c = os.listdir('C:/Users/bbari/OneDrive/Belgeler/eeg_database/extracted/c')\n",
    "print(file_names_c)"
   ]
  },
  {
   "cell_type": "markdown",
   "id": "af2dcc63",
   "metadata": {},
   "source": [
    "Datasette toplam 77 alkolik ve 45 kontrol denek bulunmaktadır"
   ]
  },
  {
   "cell_type": "markdown",
   "id": "a42eaf9a",
   "metadata": {},
   "source": [
    "# Listelenen Datasetteki gz Uzantılı Datanın Extract İşlemi"
   ]
  },
  {
   "cell_type": "markdown",
   "id": "cc41579b",
   "metadata": {},
   "source": [
    "**Dosya Yollarının Tek Bir Listede Tutulması**"
   ]
  },
  {
   "cell_type": "code",
   "execution_count": 5,
   "id": "c604e3cb",
   "metadata": {},
   "outputs": [],
   "source": [
    "file_names_list=[]\n",
    "for file in file_names_a:\n",
    "    file_names_list.append(os.listdir('C:/Users/bbari/OneDrive/Belgeler/eeg_database/extracted/a/' + file))"
   ]
  },
  {
   "cell_type": "markdown",
   "id": "22db0dab",
   "metadata": {},
   "source": [
    "**Oluşturulan Listenin Boyutunu Bulma**"
   ]
  },
  {
   "cell_type": "code",
   "execution_count": 6,
   "id": "f5f8e8d8",
   "metadata": {},
   "outputs": [
    {
     "name": "stdout",
     "output_type": "stream",
     "text": [
      "7033\n"
     ]
    }
   ],
   "source": [
    "count=0\n",
    "for i in range(0,77):\n",
    "    count=count+len(file_names_list[i])\n",
    "print(count)"
   ]
  },
  {
   "cell_type": "markdown",
   "id": "130e51b1",
   "metadata": {},
   "source": [
    "**Deneylerin Veri Setinden Extract İşlemi**"
   ]
  },
  {
   "cell_type": "code",
   "execution_count": 9,
   "id": "4719a57a",
   "metadata": {},
   "outputs": [
    {
     "name": "stdout",
     "output_type": "stream",
     "text": [
      "C:/Users/bbari/OneDrive/Belgeler/eeg_database/extracted/a/co2a0000364/co2a0000364.rd.119.gz\n",
      "C:/Users/bbari/OneDrive/Belgeler/eeg_database/extracted/a/co2a0000365/co2a0000365.rd.119.gz\n",
      "C:/Users/bbari/OneDrive/Belgeler/eeg_database/extracted/a/co2a0000368/co2a0000368.rd.091.gz\n",
      "C:/Users/bbari/OneDrive/Belgeler/eeg_database/extracted/a/co2a0000369/co2a0000369.rd.119.gz\n",
      "C:/Users/bbari/OneDrive/Belgeler/eeg_database/extracted/a/co2a0000370/co2a0000370.rd.119.gz\n",
      "C:/Users/bbari/OneDrive/Belgeler/eeg_database/extracted/a/co2a0000371/co2a0000371.rd.118.gz\n",
      "C:/Users/bbari/OneDrive/Belgeler/eeg_database/extracted/a/co2a0000372/co2a0000372.rd.119.gz\n",
      "C:/Users/bbari/OneDrive/Belgeler/eeg_database/extracted/a/co2a0000375/co2a0000375.rd.119.gz\n",
      "C:/Users/bbari/OneDrive/Belgeler/eeg_database/extracted/a/co2a0000377/co2a0000377.rd.119.gz\n",
      "C:/Users/bbari/OneDrive/Belgeler/eeg_database/extracted/a/co2a0000378/co2a0000378.rd.119.gz\n",
      "C:/Users/bbari/OneDrive/Belgeler/eeg_database/extracted/a/co2a0000379/co2a0000379.rd.119.gz\n",
      "C:/Users/bbari/OneDrive/Belgeler/eeg_database/extracted/a/co2a0000380/co2a0000380.rd.116.gz\n",
      "C:/Users/bbari/OneDrive/Belgeler/eeg_database/extracted/a/co2a0000381/co2a0000381.rd.119.gz\n",
      "C:/Users/bbari/OneDrive/Belgeler/eeg_database/extracted/a/co2a0000382/co2a0000382.rd.119.gz\n",
      "C:/Users/bbari/OneDrive/Belgeler/eeg_database/extracted/a/co2a0000384/co2a0000384.rd.119.gz\n",
      "C:/Users/bbari/OneDrive/Belgeler/eeg_database/extracted/a/co2a0000385/co2a0000385.rd.117.gz\n",
      "C:/Users/bbari/OneDrive/Belgeler/eeg_database/extracted/a/co2a0000386/co2a0000386.rd.119.gz\n",
      "C:/Users/bbari/OneDrive/Belgeler/eeg_database/extracted/a/co2a0000387/co2a0000387.rd.115.gz\n",
      "C:/Users/bbari/OneDrive/Belgeler/eeg_database/extracted/a/co2a0000388/co2a0000388.rd.119.gz\n",
      "C:/Users/bbari/OneDrive/Belgeler/eeg_database/extracted/a/co2a0000390/co2a0000390.rd.119.gz\n",
      "C:/Users/bbari/OneDrive/Belgeler/eeg_database/extracted/a/co2a0000392/co2a0000392.rd.119.gz\n",
      "C:/Users/bbari/OneDrive/Belgeler/eeg_database/extracted/a/co2a0000394/co2a0000394.rd.119.gz\n",
      "C:/Users/bbari/OneDrive/Belgeler/eeg_database/extracted/a/co2a0000395/co2a0000395.rd.119.gz\n",
      "C:/Users/bbari/OneDrive/Belgeler/eeg_database/extracted/a/co2a0000396/co2a0000396.rd.118.gz\n",
      "C:/Users/bbari/OneDrive/Belgeler/eeg_database/extracted/a/co2a0000398/co2a0000398.rd.119.gz\n",
      "C:/Users/bbari/OneDrive/Belgeler/eeg_database/extracted/a/co2a0000400/co2a0000400.rd.119.gz\n",
      "C:/Users/bbari/OneDrive/Belgeler/eeg_database/extracted/a/co2a0000402/co2a0000402.rd.118.gz\n",
      "C:/Users/bbari/OneDrive/Belgeler/eeg_database/extracted/a/co2a0000403/co2a0000403.rd.119.gz\n",
      "C:/Users/bbari/OneDrive/Belgeler/eeg_database/extracted/a/co2a0000404/co2a0000404.rd.119.gz\n",
      "C:/Users/bbari/OneDrive/Belgeler/eeg_database/extracted/a/co2a0000405/co2a0000405.rd.118.gz\n",
      "C:/Users/bbari/OneDrive/Belgeler/eeg_database/extracted/a/co2a0000406/co2a0000406.rd.119.gz\n",
      "C:/Users/bbari/OneDrive/Belgeler/eeg_database/extracted/a/co2a0000407/co2a0000407.rd.119.gz\n",
      "C:/Users/bbari/OneDrive/Belgeler/eeg_database/extracted/a/co2a0000409/co2a0000409.rd.119.gz\n",
      "C:/Users/bbari/OneDrive/Belgeler/eeg_database/extracted/a/co2a0000410/co2a0000410.rd.119.gz\n",
      "C:/Users/bbari/OneDrive/Belgeler/eeg_database/extracted/a/co2a0000411/co2a0000411.rd.119.gz\n",
      "C:/Users/bbari/OneDrive/Belgeler/eeg_database/extracted/a/co2a0000412/co2a0000412.rd.119.gz\n",
      "C:/Users/bbari/OneDrive/Belgeler/eeg_database/extracted/a/co2a0000414/co2a0000414.rd.119.gz\n",
      "C:/Users/bbari/OneDrive/Belgeler/eeg_database/extracted/a/co2a0000415/co2a0000415.rd.119.gz\n",
      "C:/Users/bbari/OneDrive/Belgeler/eeg_database/extracted/a/co2a0000416/co2a0000416.rd.119.gz\n",
      "C:/Users/bbari/OneDrive/Belgeler/eeg_database/extracted/a/co2a0000417/co2a0000417.rd.119.gz\n",
      "C:/Users/bbari/OneDrive/Belgeler/eeg_database/extracted/a/co2a0000418/co2a0000418.rd.119.gz\n",
      "C:/Users/bbari/OneDrive/Belgeler/eeg_database/extracted/a/co2a0000419/co2a0000419.rd.119.gz\n",
      "C:/Users/bbari/OneDrive/Belgeler/eeg_database/extracted/a/co2a0000421/co2a0000421.rd.119.gz\n",
      "C:/Users/bbari/OneDrive/Belgeler/eeg_database/extracted/a/co2a0000422/co2a0000422.rd.119.gz\n",
      "C:/Users/bbari/OneDrive/Belgeler/eeg_database/extracted/a/co2a0000423/co2a0000423.rd.118.gz\n",
      "C:/Users/bbari/OneDrive/Belgeler/eeg_database/extracted/a/co2a0000424/co2a0000424.rd.119.gz\n",
      "C:/Users/bbari/OneDrive/Belgeler/eeg_database/extracted/a/co2a0000425/co2a0000425.rd.116.gz\n",
      "C:/Users/bbari/OneDrive/Belgeler/eeg_database/extracted/a/co2a0000426/co2a0000426.rd.115.gz\n",
      "C:/Users/bbari/OneDrive/Belgeler/eeg_database/extracted/a/co2a0000427/co2a0000427.rd.118.gz\n",
      "C:/Users/bbari/OneDrive/Belgeler/eeg_database/extracted/a/co2a0000428/co2a0000428.rd.119.gz\n",
      "C:/Users/bbari/OneDrive/Belgeler/eeg_database/extracted/a/co2a0000429/co2a0000429.rd.118.gz\n",
      "C:/Users/bbari/OneDrive/Belgeler/eeg_database/extracted/a/co2a0000430/co2a0000430.rd.119.gz\n",
      "C:/Users/bbari/OneDrive/Belgeler/eeg_database/extracted/a/co2a0000432/co2a0000432.rd.119.gz\n",
      "C:/Users/bbari/OneDrive/Belgeler/eeg_database/extracted/a/co2a0000433/co2a0000433.rd.117.gz\n",
      "C:/Users/bbari/OneDrive/Belgeler/eeg_database/extracted/a/co2a0000434/co2a0000434.rd.118.gz\n",
      "C:/Users/bbari/OneDrive/Belgeler/eeg_database/extracted/a/co2a0000435/co2a0000435.rd.116.gz\n",
      "C:/Users/bbari/OneDrive/Belgeler/eeg_database/extracted/a/co2a0000436/co2a0000436.rd.119.gz\n",
      "C:/Users/bbari/OneDrive/Belgeler/eeg_database/extracted/a/co2a0000437/co2a0000437.rd.119.gz\n",
      "C:/Users/bbari/OneDrive/Belgeler/eeg_database/extracted/a/co2a0000438/co2a0000438.rd.119.gz\n",
      "C:/Users/bbari/OneDrive/Belgeler/eeg_database/extracted/a/co2a0000439/co2a0000439.rd.119.gz\n",
      "C:/Users/bbari/OneDrive/Belgeler/eeg_database/extracted/a/co2a0000440/co2a0000440.rd.118.gz\n",
      "C:/Users/bbari/OneDrive/Belgeler/eeg_database/extracted/a/co2a0000443/co2a0000443.rd.118.gz\n",
      "C:/Users/bbari/OneDrive/Belgeler/eeg_database/extracted/a/co2a0000444/co2a0000444.rd.119.gz\n",
      "C:/Users/bbari/OneDrive/Belgeler/eeg_database/extracted/a/co2a0000445/co2a0000445.rd.119.gz\n",
      "C:/Users/bbari/OneDrive/Belgeler/eeg_database/extracted/a/co2a0000447/co2a0000447.rd.119.gz\n",
      "C:/Users/bbari/OneDrive/Belgeler/eeg_database/extracted/a/co3a0000448/co3a0000448.rd.119.gz\n",
      "C:/Users/bbari/OneDrive/Belgeler/eeg_database/extracted/a/co3a0000450/co3a0000450.rd.119.gz\n",
      "C:/Users/bbari/OneDrive/Belgeler/eeg_database/extracted/a/co3a0000451/co3a0000451.rd.119.gz\n",
      "C:/Users/bbari/OneDrive/Belgeler/eeg_database/extracted/a/co3a0000453/co3a0000453.rd.118.gz\n",
      "C:/Users/bbari/OneDrive/Belgeler/eeg_database/extracted/a/co3a0000454/co3a0000454.rd.119.gz\n",
      "C:/Users/bbari/OneDrive/Belgeler/eeg_database/extracted/a/co3a0000455/co3a0000455.rd.119.gz\n",
      "C:/Users/bbari/OneDrive/Belgeler/eeg_database/extracted/a/co3a0000456/co3a0000456.rd.119.gz\n",
      "C:/Users/bbari/OneDrive/Belgeler/eeg_database/extracted/a/co3a0000457/co3a0000457.rd.114.gz\n",
      "C:/Users/bbari/OneDrive/Belgeler/eeg_database/extracted/a/co3a0000458/co3a0000458.rd.119.gz\n",
      "C:/Users/bbari/OneDrive/Belgeler/eeg_database/extracted/a/co3a0000459/co3a0000459.rd.118.gz\n",
      "C:/Users/bbari/OneDrive/Belgeler/eeg_database/extracted/a/co3a0000460/co3a0000460.rd.119.gz\n",
      "C:/Users/bbari/OneDrive/Belgeler/eeg_database/extracted/a/co3a0000461/co3a0000461.rd.119.gz\n"
     ]
    },
    {
     "data": {
      "text/html": [
       "<div><style>\n",
       ".dataframe > thead > tr,\n",
       ".dataframe > tbody > tr {\n",
       "  text-align: right;\n",
       "  white-space: pre-wrap;\n",
       "}\n",
       "</style>\n",
       "<small>shape: (115_671_751, 4)</small><table border=\"1\" class=\"dataframe\"><thead><tr><th>#</th><th>FP1</th><th>chan</th><th>0</th></tr><tr><td>i64</td><td>str</td><td>i64</td><td>f64</td></tr></thead><tbody><tr><td>0</td><td>&quot;FP1&quot;</td><td>0</td><td>-8.921</td></tr><tr><td>0</td><td>&quot;FP1&quot;</td><td>1</td><td>-8.433</td></tr><tr><td>0</td><td>&quot;FP1&quot;</td><td>2</td><td>-2.574</td></tr><tr><td>0</td><td>&quot;FP1&quot;</td><td>3</td><td>5.239</td></tr><tr><td>0</td><td>&quot;FP1&quot;</td><td>4</td><td>11.587</td></tr><tr><td>&hellip;</td><td>&hellip;</td><td>&hellip;</td><td>&hellip;</td></tr><tr><td>119</td><td>&quot;Y&quot;</td><td>251</td><td>38.656</td></tr><tr><td>119</td><td>&quot;Y&quot;</td><td>252</td><td>37.679</td></tr><tr><td>119</td><td>&quot;Y&quot;</td><td>253</td><td>37.191</td></tr><tr><td>119</td><td>&quot;Y&quot;</td><td>254</td><td>37.679</td></tr><tr><td>119</td><td>&quot;Y&quot;</td><td>255</td><td>37.679</td></tr></tbody></table></div>"
      ],
      "text/plain": [
       "shape: (115_671_751, 4)\n",
       "┌─────┬─────┬──────┬────────┐\n",
       "│ #   ┆ FP1 ┆ chan ┆ 0      │\n",
       "│ --- ┆ --- ┆ ---  ┆ ---    │\n",
       "│ i64 ┆ str ┆ i64  ┆ f64    │\n",
       "╞═════╪═════╪══════╪════════╡\n",
       "│ 0   ┆ FP1 ┆ 0    ┆ -8.921 │\n",
       "│ 0   ┆ FP1 ┆ 1    ┆ -8.433 │\n",
       "│ 0   ┆ FP1 ┆ 2    ┆ -2.574 │\n",
       "│ 0   ┆ FP1 ┆ 3    ┆ 5.239  │\n",
       "│ 0   ┆ FP1 ┆ 4    ┆ 11.587 │\n",
       "│ …   ┆ …   ┆ …    ┆ …      │\n",
       "│ 119 ┆ Y   ┆ 251  ┆ 38.656 │\n",
       "│ 119 ┆ Y   ┆ 252  ┆ 37.679 │\n",
       "│ 119 ┆ Y   ┆ 253  ┆ 37.191 │\n",
       "│ 119 ┆ Y   ┆ 254  ┆ 37.679 │\n",
       "│ 119 ┆ Y   ┆ 255  ┆ 37.679 │\n",
       "└─────┴─────┴──────┴────────┘"
      ]
     },
     "execution_count": 9,
     "metadata": {},
     "output_type": "execute_result"
    }
   ],
   "source": [
    "import polars as pl\n",
    "dt1 = pl.DataFrame()\n",
    "dt2 = pl.DataFrame()\n",
    "for a in range(0,len(file_names_a)):\n",
    "    for i in range(0,len(file_names_list[a])):\n",
    "        filename='C:/Users/bbari/OneDrive/Belgeler/eeg_database/extracted/a'+'/'+str(file_names_a[a])+ '/'+str(file_names_list[a][i])\n",
    "        dt1=pl.read_csv(filename,skip_rows=4,separator=\" \",ignore_errors=True)\n",
    "        dt2=pl.concat([dt2,dt1])\n",
    "    print(filename)\n",
    "    #if filename=='C:/Users/bbari/OneDrive/Belgeler/eeg_database/extracted/a/co2a0000364/co2a0000364.rd.119.gz':\n",
    "        #break\n",
    "dt2"
   ]
  },
  {
   "cell_type": "code",
   "execution_count": 14,
   "id": "2c88682b",
   "metadata": {},
   "outputs": [
    {
     "data": {
      "text/plain": [
       "(115671751, 4)"
      ]
     },
     "execution_count": 14,
     "metadata": {},
     "output_type": "execute_result"
    }
   ],
   "source": [
    "dt2.shape"
   ]
  },
  {
   "cell_type": "code",
   "execution_count": 59,
   "id": "cfbc551e",
   "metadata": {},
   "outputs": [
    {
     "data": {
      "text/plain": [
       "(None, 'FP2', None, 1.0)"
      ]
     },
     "execution_count": 59,
     "metadata": {},
     "output_type": "execute_result"
    }
   ],
   "source": [
    "dt2.row(256)"
   ]
  },
  {
   "cell_type": "markdown",
   "id": "f9bf9ba5",
   "metadata": {},
   "source": [
    "**Etiketlerin Başlıklarına Ait Filtrelenen Satırların Veri Setinden Çıkarılması**"
   ]
  },
  {
   "cell_type": "code",
   "execution_count": 77,
   "id": "9d359678",
   "metadata": {},
   "outputs": [
    {
     "data": {
      "text/html": [
       "<div><style>\n",
       ".dataframe > thead > tr,\n",
       ".dataframe > tbody > tr {\n",
       "  text-align: right;\n",
       "  white-space: pre-wrap;\n",
       "}\n",
       "</style>\n",
       "<small>shape: (115_228_672, 4)</small><table border=\"1\" class=\"dataframe\"><thead><tr><th>#</th><th>FP1</th><th>chan</th><th>0</th></tr><tr><td>i64</td><td>str</td><td>i64</td><td>f64</td></tr></thead><tbody><tr><td>0</td><td>&quot;FP1&quot;</td><td>0</td><td>-8.921</td></tr><tr><td>0</td><td>&quot;FP1&quot;</td><td>1</td><td>-8.433</td></tr><tr><td>0</td><td>&quot;FP1&quot;</td><td>2</td><td>-2.574</td></tr><tr><td>0</td><td>&quot;FP1&quot;</td><td>3</td><td>5.239</td></tr><tr><td>0</td><td>&quot;FP1&quot;</td><td>4</td><td>11.587</td></tr><tr><td>&hellip;</td><td>&hellip;</td><td>&hellip;</td><td>&hellip;</td></tr><tr><td>119</td><td>&quot;Y&quot;</td><td>251</td><td>38.656</td></tr><tr><td>119</td><td>&quot;Y&quot;</td><td>252</td><td>37.679</td></tr><tr><td>119</td><td>&quot;Y&quot;</td><td>253</td><td>37.191</td></tr><tr><td>119</td><td>&quot;Y&quot;</td><td>254</td><td>37.679</td></tr><tr><td>119</td><td>&quot;Y&quot;</td><td>255</td><td>37.679</td></tr></tbody></table></div>"
      ],
      "text/plain": [
       "shape: (115_228_672, 4)\n",
       "┌─────┬─────┬──────┬────────┐\n",
       "│ #   ┆ FP1 ┆ chan ┆ 0      │\n",
       "│ --- ┆ --- ┆ ---  ┆ ---    │\n",
       "│ i64 ┆ str ┆ i64  ┆ f64    │\n",
       "╞═════╪═════╪══════╪════════╡\n",
       "│ 0   ┆ FP1 ┆ 0    ┆ -8.921 │\n",
       "│ 0   ┆ FP1 ┆ 1    ┆ -8.433 │\n",
       "│ 0   ┆ FP1 ┆ 2    ┆ -2.574 │\n",
       "│ 0   ┆ FP1 ┆ 3    ┆ 5.239  │\n",
       "│ 0   ┆ FP1 ┆ 4    ┆ 11.587 │\n",
       "│ …   ┆ …   ┆ …    ┆ …      │\n",
       "│ 119 ┆ Y   ┆ 251  ┆ 38.656 │\n",
       "│ 119 ┆ Y   ┆ 252  ┆ 37.679 │\n",
       "│ 119 ┆ Y   ┆ 253  ┆ 37.191 │\n",
       "│ 119 ┆ Y   ┆ 254  ┆ 37.679 │\n",
       "│ 119 ┆ Y   ┆ 255  ┆ 37.679 │\n",
       "└─────┴─────┴──────┴────────┘"
      ]
     },
     "execution_count": 77,
     "metadata": {},
     "output_type": "execute_result"
    }
   ],
   "source": [
    "df_drop = dt2.filter(~pl.col(\"#\").is_null())\n",
    "df_drop"
   ]
  },
  {
   "cell_type": "markdown",
   "id": "fb1ba111",
   "metadata": {},
   "source": [
    "**Dataframe'deki İlgili Sütunları Yeniden Adlandırıp Sayısal Hale Çevirme**"
   ]
  },
  {
   "cell_type": "code",
   "execution_count": 79,
   "id": "a5606205",
   "metadata": {},
   "outputs": [
    {
     "data": {
      "text/html": [
       "<div><style>\n",
       ".dataframe > thead > tr,\n",
       ".dataframe > tbody > tr {\n",
       "  text-align: right;\n",
       "  white-space: pre-wrap;\n",
       "}\n",
       "</style>\n",
       "<small>shape: (115_228_672, 4)</small><table border=\"1\" class=\"dataframe\"><thead><tr><th>deney_num</th><th>kanal_adı</th><th>timestamp</th><th>voltaj(mV)</th></tr><tr><td>i64</td><td>str</td><td>i64</td><td>f64</td></tr></thead><tbody><tr><td>0</td><td>&quot;FP1&quot;</td><td>0</td><td>-8.921</td></tr><tr><td>0</td><td>&quot;FP1&quot;</td><td>1</td><td>-8.433</td></tr><tr><td>0</td><td>&quot;FP1&quot;</td><td>2</td><td>-2.574</td></tr><tr><td>0</td><td>&quot;FP1&quot;</td><td>3</td><td>5.239</td></tr><tr><td>0</td><td>&quot;FP1&quot;</td><td>4</td><td>11.587</td></tr><tr><td>&hellip;</td><td>&hellip;</td><td>&hellip;</td><td>&hellip;</td></tr><tr><td>119</td><td>&quot;Y&quot;</td><td>251</td><td>38.656</td></tr><tr><td>119</td><td>&quot;Y&quot;</td><td>252</td><td>37.679</td></tr><tr><td>119</td><td>&quot;Y&quot;</td><td>253</td><td>37.191</td></tr><tr><td>119</td><td>&quot;Y&quot;</td><td>254</td><td>37.679</td></tr><tr><td>119</td><td>&quot;Y&quot;</td><td>255</td><td>37.679</td></tr></tbody></table></div>"
      ],
      "text/plain": [
       "shape: (115_228_672, 4)\n",
       "┌───────────┬───────────┬───────────┬────────────┐\n",
       "│ deney_num ┆ kanal_adı ┆ timestamp ┆ voltaj(mV) │\n",
       "│ ---       ┆ ---       ┆ ---       ┆ ---        │\n",
       "│ i64       ┆ str       ┆ i64       ┆ f64        │\n",
       "╞═══════════╪═══════════╪═══════════╪════════════╡\n",
       "│ 0         ┆ FP1       ┆ 0         ┆ -8.921     │\n",
       "│ 0         ┆ FP1       ┆ 1         ┆ -8.433     │\n",
       "│ 0         ┆ FP1       ┆ 2         ┆ -2.574     │\n",
       "│ 0         ┆ FP1       ┆ 3         ┆ 5.239      │\n",
       "│ 0         ┆ FP1       ┆ 4         ┆ 11.587     │\n",
       "│ …         ┆ …         ┆ …         ┆ …          │\n",
       "│ 119       ┆ Y         ┆ 251       ┆ 38.656     │\n",
       "│ 119       ┆ Y         ┆ 252       ┆ 37.679     │\n",
       "│ 119       ┆ Y         ┆ 253       ┆ 37.191     │\n",
       "│ 119       ┆ Y         ┆ 254       ┆ 37.679     │\n",
       "│ 119       ┆ Y         ┆ 255       ┆ 37.679     │\n",
       "└───────────┴───────────┴───────────┴────────────┘"
      ]
     },
     "execution_count": 79,
     "metadata": {},
     "output_type": "execute_result"
    }
   ],
   "source": [
    "column_names= {\n",
    "    \"#\": \"deney_num\",\n",
    "    \"FP1\": \"kanal_adı\",\n",
    "    \"chan\": \"timestamp\",\n",
    "    \"0\": \"voltaj(mV)\",\n",
    "}\n",
    "dt3 = df_drop.rename(column_names)\n",
    "dt3"
   ]
  },
  {
   "cell_type": "markdown",
   "id": "0e5036c2",
   "metadata": {},
   "source": [
    "**Deney Numarası ve Timestamp'e Bağlı Olarak Veri Setinin Sıralanması**"
   ]
  },
  {
   "cell_type": "code",
   "execution_count": 80,
   "id": "370ba5cd",
   "metadata": {},
   "outputs": [
    {
     "data": {
      "text/html": [
       "<div><style>\n",
       ".dataframe > thead > tr,\n",
       ".dataframe > tbody > tr {\n",
       "  text-align: right;\n",
       "  white-space: pre-wrap;\n",
       "}\n",
       "</style>\n",
       "<small>shape: (115_228_672, 4)</small><table border=\"1\" class=\"dataframe\"><thead><tr><th>deney_num</th><th>kanal_adı</th><th>timestamp</th><th>voltaj(mV)</th></tr><tr><td>i64</td><td>str</td><td>i64</td><td>f64</td></tr></thead><tbody><tr><td>0</td><td>&quot;AF1&quot;</td><td>0</td><td>-2.146</td></tr><tr><td>0</td><td>&quot;AF1&quot;</td><td>0</td><td>4.079</td></tr><tr><td>0</td><td>&quot;AF1&quot;</td><td>0</td><td>1.617</td></tr><tr><td>0</td><td>&quot;AF1&quot;</td><td>0</td><td>-0.183</td></tr><tr><td>0</td><td>&quot;AF1&quot;</td><td>0</td><td>-0.071</td></tr><tr><td>&hellip;</td><td>&hellip;</td><td>&hellip;</td><td>&hellip;</td></tr><tr><td>119</td><td>&quot;nd&quot;</td><td>255</td><td>-4.801</td></tr><tr><td>119</td><td>&quot;nd&quot;</td><td>255</td><td>48.096</td></tr><tr><td>119</td><td>&quot;nd&quot;</td><td>255</td><td>-12.99</td></tr><tr><td>119</td><td>&quot;nd&quot;</td><td>255</td><td>0.478</td></tr><tr><td>119</td><td>&quot;nd&quot;</td><td>255</td><td>36.245</td></tr></tbody></table></div>"
      ],
      "text/plain": [
       "shape: (115_228_672, 4)\n",
       "┌───────────┬───────────┬───────────┬────────────┐\n",
       "│ deney_num ┆ kanal_adı ┆ timestamp ┆ voltaj(mV) │\n",
       "│ ---       ┆ ---       ┆ ---       ┆ ---        │\n",
       "│ i64       ┆ str       ┆ i64       ┆ f64        │\n",
       "╞═══════════╪═══════════╪═══════════╪════════════╡\n",
       "│ 0         ┆ AF1       ┆ 0         ┆ -2.146     │\n",
       "│ 0         ┆ AF1       ┆ 0         ┆ 4.079      │\n",
       "│ 0         ┆ AF1       ┆ 0         ┆ 1.617      │\n",
       "│ 0         ┆ AF1       ┆ 0         ┆ -0.183     │\n",
       "│ 0         ┆ AF1       ┆ 0         ┆ -0.071     │\n",
       "│ …         ┆ …         ┆ …         ┆ …          │\n",
       "│ 119       ┆ nd        ┆ 255       ┆ -4.801     │\n",
       "│ 119       ┆ nd        ┆ 255       ┆ 48.096     │\n",
       "│ 119       ┆ nd        ┆ 255       ┆ -12.99     │\n",
       "│ 119       ┆ nd        ┆ 255       ┆ 0.478      │\n",
       "│ 119       ┆ nd        ┆ 255       ┆ 36.245     │\n",
       "└───────────┴───────────┴───────────┴────────────┘"
      ]
     },
     "execution_count": 80,
     "metadata": {},
     "output_type": "execute_result"
    }
   ],
   "source": [
    "dt3=dt3.sort(by=[\"deney_num\",\"timestamp\",\"kanal_adı\"])\n",
    "dt3 #deney_num, timestamp to int 0,0 0,1 0,2..."
   ]
  },
  {
   "cell_type": "markdown",
   "id": "0a25cc69",
   "metadata": {},
   "source": [
    "**Voltaj Değerlerini Her Etiket için Yeniden Boyutlandırma**"
   ]
  },
  {
   "cell_type": "code",
   "execution_count": 81,
   "id": "18b96def",
   "metadata": {},
   "outputs": [
    {
     "data": {
      "text/plain": [
       "array([[-2.1460e+00,  4.0790e+00,  1.6170e+00, ..., -4.9800e-01,\n",
       "        -6.8200e-01,  2.4400e-01],\n",
       "       [-5.1070e+00, -4.5980e+00,  5.2900e-01, ..., -6.0530e+00,\n",
       "         0.0000e+00, -3.7430e+00],\n",
       "       [-3.5100e+00, -4.2220e+00, -4.0790e+00, ...,  5.7370e+00,\n",
       "         5.1000e-02,  4.9030e+00],\n",
       "       ...,\n",
       "       [-3.3122e+01, -3.7940e+00, -3.7030e+00, ...,  5.0140e+01,\n",
       "         2.2532e+01,  1.5920e+01],\n",
       "       [-8.3995e+01, -1.7721e+01,  3.6367e+01, ...,  1.5147e+01,\n",
       "        -3.0210e+00, -1.4811e+01],\n",
       "       [-5.3000e+00,  4.9489e+01, -1.2685e+01, ..., -1.2990e+01,\n",
       "         4.7800e-01,  3.6245e+01]])"
      ]
     },
     "execution_count": 81,
     "metadata": {},
     "output_type": "execute_result"
    }
   ],
   "source": [
    "aa=dt3[\"voltaj(mV)\"].to_numpy()\n",
    "aa=aa.reshape((aa.shape[0]//64,64))\n",
    "aa"
   ]
  },
  {
   "cell_type": "markdown",
   "id": "a9b2f870",
   "metadata": {},
   "source": [
    "**Etiketlere Ait Voltaj Değerlerinin Eşleştirilmesi**"
   ]
  },
  {
   "cell_type": "code",
   "execution_count": 84,
   "id": "592720a8",
   "metadata": {},
   "outputs": [
    {
     "data": {
      "text/html": [
       "<div>\n",
       "<style scoped>\n",
       "    .dataframe tbody tr th:only-of-type {\n",
       "        vertical-align: middle;\n",
       "    }\n",
       "\n",
       "    .dataframe tbody tr th {\n",
       "        vertical-align: top;\n",
       "    }\n",
       "\n",
       "    .dataframe thead th {\n",
       "        text-align: right;\n",
       "    }\n",
       "</style>\n",
       "<table border=\"1\" class=\"dataframe\">\n",
       "  <thead>\n",
       "    <tr style=\"text-align: right;\">\n",
       "      <th></th>\n",
       "      <th>AF1</th>\n",
       "      <th>AF2</th>\n",
       "      <th>AF7</th>\n",
       "      <th>AF8</th>\n",
       "      <th>AFZ</th>\n",
       "      <th>C1</th>\n",
       "      <th>C2</th>\n",
       "      <th>C3</th>\n",
       "      <th>C4</th>\n",
       "      <th>C5</th>\n",
       "      <th>...</th>\n",
       "      <th>PO8</th>\n",
       "      <th>POZ</th>\n",
       "      <th>PZ</th>\n",
       "      <th>T7</th>\n",
       "      <th>T8</th>\n",
       "      <th>TP7</th>\n",
       "      <th>TP8</th>\n",
       "      <th>X</th>\n",
       "      <th>Y</th>\n",
       "      <th>nd</th>\n",
       "    </tr>\n",
       "  </thead>\n",
       "  <tbody>\n",
       "    <tr>\n",
       "      <th>0</th>\n",
       "      <td>-2.146</td>\n",
       "      <td>4.079</td>\n",
       "      <td>1.617</td>\n",
       "      <td>-0.183</td>\n",
       "      <td>-0.071</td>\n",
       "      <td>-4.120</td>\n",
       "      <td>-5.005</td>\n",
       "      <td>-3.896</td>\n",
       "      <td>-0.621</td>\n",
       "      <td>1.109</td>\n",
       "      <td>...</td>\n",
       "      <td>4.069</td>\n",
       "      <td>-1.933</td>\n",
       "      <td>-1.953</td>\n",
       "      <td>4.232</td>\n",
       "      <td>1.129</td>\n",
       "      <td>2.340</td>\n",
       "      <td>2.055</td>\n",
       "      <td>-0.498</td>\n",
       "      <td>-0.682</td>\n",
       "      <td>0.244</td>\n",
       "    </tr>\n",
       "    <tr>\n",
       "      <th>1</th>\n",
       "      <td>-5.107</td>\n",
       "      <td>-4.598</td>\n",
       "      <td>0.529</td>\n",
       "      <td>3.733</td>\n",
       "      <td>0.000</td>\n",
       "      <td>-4.272</td>\n",
       "      <td>-3.174</td>\n",
       "      <td>3.927</td>\n",
       "      <td>-2.889</td>\n",
       "      <td>4.272</td>\n",
       "      <td>...</td>\n",
       "      <td>1.831</td>\n",
       "      <td>0.702</td>\n",
       "      <td>-0.610</td>\n",
       "      <td>-4.201</td>\n",
       "      <td>-4.578</td>\n",
       "      <td>0.600</td>\n",
       "      <td>0.305</td>\n",
       "      <td>-6.053</td>\n",
       "      <td>0.000</td>\n",
       "      <td>-3.743</td>\n",
       "    </tr>\n",
       "    <tr>\n",
       "      <th>2</th>\n",
       "      <td>-3.510</td>\n",
       "      <td>-4.222</td>\n",
       "      <td>-4.079</td>\n",
       "      <td>3.886</td>\n",
       "      <td>-0.458</td>\n",
       "      <td>5.127</td>\n",
       "      <td>4.181</td>\n",
       "      <td>-8.494</td>\n",
       "      <td>-5.961</td>\n",
       "      <td>0.000</td>\n",
       "      <td>...</td>\n",
       "      <td>-1.475</td>\n",
       "      <td>7.731</td>\n",
       "      <td>0.000</td>\n",
       "      <td>-1.851</td>\n",
       "      <td>-5.066</td>\n",
       "      <td>12.604</td>\n",
       "      <td>-2.177</td>\n",
       "      <td>5.737</td>\n",
       "      <td>0.051</td>\n",
       "      <td>4.903</td>\n",
       "    </tr>\n",
       "    <tr>\n",
       "      <th>3</th>\n",
       "      <td>14.791</td>\n",
       "      <td>-1.923</td>\n",
       "      <td>2.879</td>\n",
       "      <td>0.000</td>\n",
       "      <td>0.000</td>\n",
       "      <td>-5.290</td>\n",
       "      <td>-2.930</td>\n",
       "      <td>-2.370</td>\n",
       "      <td>-0.987</td>\n",
       "      <td>0.041</td>\n",
       "      <td>...</td>\n",
       "      <td>-1.648</td>\n",
       "      <td>3.031</td>\n",
       "      <td>-0.834</td>\n",
       "      <td>6.104</td>\n",
       "      <td>-2.045</td>\n",
       "      <td>1.149</td>\n",
       "      <td>-0.651</td>\n",
       "      <td>0.000</td>\n",
       "      <td>0.000</td>\n",
       "      <td>-3.448</td>\n",
       "    </tr>\n",
       "    <tr>\n",
       "      <th>4</th>\n",
       "      <td>-0.610</td>\n",
       "      <td>-1.434</td>\n",
       "      <td>0.264</td>\n",
       "      <td>0.549</td>\n",
       "      <td>-0.793</td>\n",
       "      <td>3.550</td>\n",
       "      <td>0.000</td>\n",
       "      <td>-0.844</td>\n",
       "      <td>4.323</td>\n",
       "      <td>-2.218</td>\n",
       "      <td>...</td>\n",
       "      <td>-0.773</td>\n",
       "      <td>0.000</td>\n",
       "      <td>0.000</td>\n",
       "      <td>0.142</td>\n",
       "      <td>1.780</td>\n",
       "      <td>-0.448</td>\n",
       "      <td>0.814</td>\n",
       "      <td>1.088</td>\n",
       "      <td>-1.414</td>\n",
       "      <td>-2.136</td>\n",
       "    </tr>\n",
       "    <tr>\n",
       "      <th>...</th>\n",
       "      <td>...</td>\n",
       "      <td>...</td>\n",
       "      <td>...</td>\n",
       "      <td>...</td>\n",
       "      <td>...</td>\n",
       "      <td>...</td>\n",
       "      <td>...</td>\n",
       "      <td>...</td>\n",
       "      <td>...</td>\n",
       "      <td>...</td>\n",
       "      <td>...</td>\n",
       "      <td>...</td>\n",
       "      <td>...</td>\n",
       "      <td>...</td>\n",
       "      <td>...</td>\n",
       "      <td>...</td>\n",
       "      <td>...</td>\n",
       "      <td>...</td>\n",
       "      <td>...</td>\n",
       "      <td>...</td>\n",
       "      <td>...</td>\n",
       "    </tr>\n",
       "    <tr>\n",
       "      <th>1800443</th>\n",
       "      <td>5.178</td>\n",
       "      <td>11.098</td>\n",
       "      <td>0.437</td>\n",
       "      <td>-10.366</td>\n",
       "      <td>-3.174</td>\n",
       "      <td>-4.852</td>\n",
       "      <td>10.122</td>\n",
       "      <td>-1.811</td>\n",
       "      <td>-2.146</td>\n",
       "      <td>5.351</td>\n",
       "      <td>...</td>\n",
       "      <td>0.153</td>\n",
       "      <td>-4.903</td>\n",
       "      <td>-3.042</td>\n",
       "      <td>-8.555</td>\n",
       "      <td>0.031</td>\n",
       "      <td>-7.029</td>\n",
       "      <td>-12.563</td>\n",
       "      <td>21.118</td>\n",
       "      <td>1.587</td>\n",
       "      <td>4.781</td>\n",
       "    </tr>\n",
       "    <tr>\n",
       "      <th>1800444</th>\n",
       "      <td>-14.364</td>\n",
       "      <td>20.772</td>\n",
       "      <td>-4.924</td>\n",
       "      <td>3.153</td>\n",
       "      <td>-7.914</td>\n",
       "      <td>-19.704</td>\n",
       "      <td>3.296</td>\n",
       "      <td>-2.991</td>\n",
       "      <td>-16.703</td>\n",
       "      <td>4.649</td>\n",
       "      <td>...</td>\n",
       "      <td>1.536</td>\n",
       "      <td>-1.455</td>\n",
       "      <td>-5.503</td>\n",
       "      <td>-10.671</td>\n",
       "      <td>2.625</td>\n",
       "      <td>-8.728</td>\n",
       "      <td>4.547</td>\n",
       "      <td>-2.797</td>\n",
       "      <td>0.173</td>\n",
       "      <td>3.906</td>\n",
       "    </tr>\n",
       "    <tr>\n",
       "      <th>1800445</th>\n",
       "      <td>-33.122</td>\n",
       "      <td>-3.794</td>\n",
       "      <td>-3.703</td>\n",
       "      <td>-5.646</td>\n",
       "      <td>-4.557</td>\n",
       "      <td>-12.960</td>\n",
       "      <td>-3.733</td>\n",
       "      <td>-13.723</td>\n",
       "      <td>1.241</td>\n",
       "      <td>-8.067</td>\n",
       "      <td>...</td>\n",
       "      <td>4.415</td>\n",
       "      <td>31.321</td>\n",
       "      <td>7.894</td>\n",
       "      <td>-2.604</td>\n",
       "      <td>-14.791</td>\n",
       "      <td>125.305</td>\n",
       "      <td>-10.651</td>\n",
       "      <td>50.140</td>\n",
       "      <td>22.532</td>\n",
       "      <td>15.920</td>\n",
       "    </tr>\n",
       "    <tr>\n",
       "      <th>1800446</th>\n",
       "      <td>-83.995</td>\n",
       "      <td>-17.721</td>\n",
       "      <td>36.367</td>\n",
       "      <td>-1.068</td>\n",
       "      <td>-21.627</td>\n",
       "      <td>-0.854</td>\n",
       "      <td>237.437</td>\n",
       "      <td>-7.182</td>\n",
       "      <td>-20.742</td>\n",
       "      <td>78.990</td>\n",
       "      <td>...</td>\n",
       "      <td>4.690</td>\n",
       "      <td>-7.273</td>\n",
       "      <td>3.042</td>\n",
       "      <td>-13.153</td>\n",
       "      <td>16.317</td>\n",
       "      <td>-72.123</td>\n",
       "      <td>-8.575</td>\n",
       "      <td>15.147</td>\n",
       "      <td>-3.021</td>\n",
       "      <td>-14.811</td>\n",
       "    </tr>\n",
       "    <tr>\n",
       "      <th>1800447</th>\n",
       "      <td>-5.300</td>\n",
       "      <td>49.489</td>\n",
       "      <td>-12.685</td>\n",
       "      <td>0.804</td>\n",
       "      <td>37.679</td>\n",
       "      <td>-4.018</td>\n",
       "      <td>-17.344</td>\n",
       "      <td>5.524</td>\n",
       "      <td>5.920</td>\n",
       "      <td>-2.309</td>\n",
       "      <td>...</td>\n",
       "      <td>-68.420</td>\n",
       "      <td>-7.945</td>\n",
       "      <td>15.706</td>\n",
       "      <td>-2.960</td>\n",
       "      <td>-14.577</td>\n",
       "      <td>-4.801</td>\n",
       "      <td>48.096</td>\n",
       "      <td>-12.990</td>\n",
       "      <td>0.478</td>\n",
       "      <td>36.245</td>\n",
       "    </tr>\n",
       "  </tbody>\n",
       "</table>\n",
       "<p>1800448 rows × 64 columns</p>\n",
       "</div>"
      ],
      "text/plain": [
       "            AF1     AF2     AF7     AF8     AFZ      C1       C2      C3  \\\n",
       "0        -2.146   4.079   1.617  -0.183  -0.071  -4.120   -5.005  -3.896   \n",
       "1        -5.107  -4.598   0.529   3.733   0.000  -4.272   -3.174   3.927   \n",
       "2        -3.510  -4.222  -4.079   3.886  -0.458   5.127    4.181  -8.494   \n",
       "3        14.791  -1.923   2.879   0.000   0.000  -5.290   -2.930  -2.370   \n",
       "4        -0.610  -1.434   0.264   0.549  -0.793   3.550    0.000  -0.844   \n",
       "...         ...     ...     ...     ...     ...     ...      ...     ...   \n",
       "1800443   5.178  11.098   0.437 -10.366  -3.174  -4.852   10.122  -1.811   \n",
       "1800444 -14.364  20.772  -4.924   3.153  -7.914 -19.704    3.296  -2.991   \n",
       "1800445 -33.122  -3.794  -3.703  -5.646  -4.557 -12.960   -3.733 -13.723   \n",
       "1800446 -83.995 -17.721  36.367  -1.068 -21.627  -0.854  237.437  -7.182   \n",
       "1800447  -5.300  49.489 -12.685   0.804  37.679  -4.018  -17.344   5.524   \n",
       "\n",
       "             C4      C5  ...     PO8     POZ      PZ      T7      T8      TP7  \\\n",
       "0        -0.621   1.109  ...   4.069  -1.933  -1.953   4.232   1.129    2.340   \n",
       "1        -2.889   4.272  ...   1.831   0.702  -0.610  -4.201  -4.578    0.600   \n",
       "2        -5.961   0.000  ...  -1.475   7.731   0.000  -1.851  -5.066   12.604   \n",
       "3        -0.987   0.041  ...  -1.648   3.031  -0.834   6.104  -2.045    1.149   \n",
       "4         4.323  -2.218  ...  -0.773   0.000   0.000   0.142   1.780   -0.448   \n",
       "...         ...     ...  ...     ...     ...     ...     ...     ...      ...   \n",
       "1800443  -2.146   5.351  ...   0.153  -4.903  -3.042  -8.555   0.031   -7.029   \n",
       "1800444 -16.703   4.649  ...   1.536  -1.455  -5.503 -10.671   2.625   -8.728   \n",
       "1800445   1.241  -8.067  ...   4.415  31.321   7.894  -2.604 -14.791  125.305   \n",
       "1800446 -20.742  78.990  ...   4.690  -7.273   3.042 -13.153  16.317  -72.123   \n",
       "1800447   5.920  -2.309  ... -68.420  -7.945  15.706  -2.960 -14.577   -4.801   \n",
       "\n",
       "            TP8       X       Y      nd  \n",
       "0         2.055  -0.498  -0.682   0.244  \n",
       "1         0.305  -6.053   0.000  -3.743  \n",
       "2        -2.177   5.737   0.051   4.903  \n",
       "3        -0.651   0.000   0.000  -3.448  \n",
       "4         0.814   1.088  -1.414  -2.136  \n",
       "...         ...     ...     ...     ...  \n",
       "1800443 -12.563  21.118   1.587   4.781  \n",
       "1800444   4.547  -2.797   0.173   3.906  \n",
       "1800445 -10.651  50.140  22.532  15.920  \n",
       "1800446  -8.575  15.147  -3.021 -14.811  \n",
       "1800447  48.096 -12.990   0.478  36.245  \n",
       "\n",
       "[1800448 rows x 64 columns]"
      ]
     },
     "execution_count": 84,
     "metadata": {},
     "output_type": "execute_result"
    }
   ],
   "source": [
    "dt4=pd.DataFrame(aa,columns=sorted(dt3[\"kanal_adı\"].unique()))\n",
    "dt4 #0,1,...,255 timestamp for every tag (1800448 rows × 64 columns=115228672)"
   ]
  },
  {
   "cell_type": "code",
   "execution_count": 101,
   "id": "b21d066c",
   "metadata": {},
   "outputs": [
    {
     "ename": "MemoryError",
     "evalue": "Unable to allocate 879. MiB for an array with shape (115228672, 1) and data type float64",
     "output_type": "error",
     "traceback": [
      "\u001b[1;31m---------------------------------------------------------------------------\u001b[0m",
      "\u001b[1;31mMemoryError\u001b[0m                               Traceback (most recent call last)",
      "Cell \u001b[1;32mIn[101], line 5\u001b[0m\n\u001b[0;32m      3\u001b[0m \u001b[38;5;28;01mfrom\u001b[39;00m \u001b[38;5;21;01msklearn\u001b[39;00m\u001b[38;5;21;01m.\u001b[39;00m\u001b[38;5;21;01mmetrics\u001b[39;00m \u001b[38;5;28;01mimport\u001b[39;00m accuracy_score\n\u001b[0;32m      4\u001b[0m dt3_pandas\u001b[38;5;241m=\u001b[39mdt3\u001b[38;5;241m.\u001b[39mto_pandas()\n\u001b[1;32m----> 5\u001b[0m dt3_pandas[\u001b[38;5;124m'\u001b[39m\u001b[38;5;124mkanal_adı\u001b[39m\u001b[38;5;124m'\u001b[39m] \u001b[38;5;241m=\u001b[39m dt3_pandas\u001b[38;5;241m.\u001b[39mgroupby([\u001b[38;5;124m'\u001b[39m\u001b[38;5;124mkanal_adı\u001b[39m\u001b[38;5;124m'\u001b[39m])\u001b[38;5;241m.\u001b[39mngroup()\n\u001b[0;32m      6\u001b[0m x\u001b[38;5;241m=\u001b[39mdt3_pandas\u001b[38;5;241m.\u001b[39miloc[:,\u001b[38;5;241m0\u001b[39m:\u001b[38;5;241m3\u001b[39m]\n\u001b[0;32m      7\u001b[0m y\u001b[38;5;241m=\u001b[39mdt3_pandas\u001b[38;5;241m.\u001b[39miloc[:,\u001b[38;5;241m3\u001b[39m:\u001b[38;5;241m4\u001b[39m]\n",
      "File \u001b[1;32m~\\anaconda3\\Lib\\site-packages\\pandas\\core\\groupby\\groupby.py:3483\u001b[0m, in \u001b[0;36mGroupBy.ngroup\u001b[1;34m(self, ascending)\u001b[0m\n\u001b[0;32m   3424\u001b[0m \u001b[38;5;250m\u001b[39m\u001b[38;5;124;03m\"\"\"\u001b[39;00m\n\u001b[0;32m   3425\u001b[0m \u001b[38;5;124;03mNumber each group from 0 to the number of groups - 1.\u001b[39;00m\n\u001b[0;32m   3426\u001b[0m \n\u001b[1;32m   (...)\u001b[0m\n\u001b[0;32m   3480\u001b[0m \u001b[38;5;124;03mdtype: int64\u001b[39;00m\n\u001b[0;32m   3481\u001b[0m \u001b[38;5;124;03m\"\"\"\u001b[39;00m\n\u001b[0;32m   3482\u001b[0m \u001b[38;5;28;01mwith\u001b[39;00m \u001b[38;5;28mself\u001b[39m\u001b[38;5;241m.\u001b[39m_group_selection_context():\n\u001b[1;32m-> 3483\u001b[0m     index \u001b[38;5;241m=\u001b[39m \u001b[38;5;28mself\u001b[39m\u001b[38;5;241m.\u001b[39m_selected_obj\u001b[38;5;241m.\u001b[39mindex\n\u001b[0;32m   3484\u001b[0m     comp_ids \u001b[38;5;241m=\u001b[39m \u001b[38;5;28mself\u001b[39m\u001b[38;5;241m.\u001b[39mgrouper\u001b[38;5;241m.\u001b[39mgroup_info[\u001b[38;5;241m0\u001b[39m]\n\u001b[0;32m   3486\u001b[0m     dtype: \u001b[38;5;28mtype\u001b[39m\n",
      "File \u001b[1;32m~\\anaconda3\\Lib\\site-packages\\pandas\\_libs\\properties.pyx:36\u001b[0m, in \u001b[0;36mpandas._libs.properties.CachedProperty.__get__\u001b[1;34m()\u001b[0m\n",
      "File \u001b[1;32m~\\anaconda3\\Lib\\site-packages\\pandas\\core\\groupby\\groupby.py:752\u001b[0m, in \u001b[0;36mBaseGroupBy._selected_obj\u001b[1;34m(self)\u001b[0m\n\u001b[0;32m    750\u001b[0m \u001b[38;5;28;01mif\u001b[39;00m \u001b[38;5;28mself\u001b[39m\u001b[38;5;241m.\u001b[39m_selection \u001b[38;5;129;01mis\u001b[39;00m \u001b[38;5;28;01mNone\u001b[39;00m \u001b[38;5;129;01mor\u001b[39;00m \u001b[38;5;28misinstance\u001b[39m(\u001b[38;5;28mself\u001b[39m\u001b[38;5;241m.\u001b[39mobj, Series):\n\u001b[0;32m    751\u001b[0m     \u001b[38;5;28;01mif\u001b[39;00m \u001b[38;5;28mself\u001b[39m\u001b[38;5;241m.\u001b[39m_group_selection \u001b[38;5;129;01mis\u001b[39;00m \u001b[38;5;129;01mnot\u001b[39;00m \u001b[38;5;28;01mNone\u001b[39;00m:\n\u001b[1;32m--> 752\u001b[0m         \u001b[38;5;28;01mreturn\u001b[39;00m \u001b[38;5;28mself\u001b[39m\u001b[38;5;241m.\u001b[39mobj[\u001b[38;5;28mself\u001b[39m\u001b[38;5;241m.\u001b[39m_group_selection]\n\u001b[0;32m    753\u001b[0m     \u001b[38;5;28;01mreturn\u001b[39;00m \u001b[38;5;28mself\u001b[39m\u001b[38;5;241m.\u001b[39mobj\n\u001b[0;32m    754\u001b[0m \u001b[38;5;28;01melse\u001b[39;00m:\n",
      "File \u001b[1;32m~\\anaconda3\\Lib\\site-packages\\pandas\\core\\frame.py:3819\u001b[0m, in \u001b[0;36mDataFrame.__getitem__\u001b[1;34m(self, key)\u001b[0m\n\u001b[0;32m   3816\u001b[0m \u001b[38;5;28;01mif\u001b[39;00m \u001b[38;5;28mgetattr\u001b[39m(indexer, \u001b[38;5;124m\"\u001b[39m\u001b[38;5;124mdtype\u001b[39m\u001b[38;5;124m\"\u001b[39m, \u001b[38;5;28;01mNone\u001b[39;00m) \u001b[38;5;241m==\u001b[39m \u001b[38;5;28mbool\u001b[39m:\n\u001b[0;32m   3817\u001b[0m     indexer \u001b[38;5;241m=\u001b[39m np\u001b[38;5;241m.\u001b[39mwhere(indexer)[\u001b[38;5;241m0\u001b[39m]\n\u001b[1;32m-> 3819\u001b[0m data \u001b[38;5;241m=\u001b[39m \u001b[38;5;28mself\u001b[39m\u001b[38;5;241m.\u001b[39m_take_with_is_copy(indexer, axis\u001b[38;5;241m=\u001b[39m\u001b[38;5;241m1\u001b[39m)\n\u001b[0;32m   3821\u001b[0m \u001b[38;5;28;01mif\u001b[39;00m is_single_key:\n\u001b[0;32m   3822\u001b[0m     \u001b[38;5;66;03m# What does looking for a single key in a non-unique index return?\u001b[39;00m\n\u001b[0;32m   3823\u001b[0m     \u001b[38;5;66;03m# The behavior is inconsistent. It returns a Series, except when\u001b[39;00m\n\u001b[0;32m   3824\u001b[0m     \u001b[38;5;66;03m# - the key itself is repeated (test on data.shape, #9519), or\u001b[39;00m\n\u001b[0;32m   3825\u001b[0m     \u001b[38;5;66;03m# - we have a MultiIndex on columns (test on self.columns, #21309)\u001b[39;00m\n\u001b[0;32m   3826\u001b[0m     \u001b[38;5;28;01mif\u001b[39;00m data\u001b[38;5;241m.\u001b[39mshape[\u001b[38;5;241m1\u001b[39m] \u001b[38;5;241m==\u001b[39m \u001b[38;5;241m1\u001b[39m \u001b[38;5;129;01mand\u001b[39;00m \u001b[38;5;129;01mnot\u001b[39;00m \u001b[38;5;28misinstance\u001b[39m(\u001b[38;5;28mself\u001b[39m\u001b[38;5;241m.\u001b[39mcolumns, MultiIndex):\n\u001b[0;32m   3827\u001b[0m         \u001b[38;5;66;03m# GH#26490 using data[key] can cause RecursionError\u001b[39;00m\n",
      "File \u001b[1;32m~\\anaconda3\\Lib\\site-packages\\pandas\\core\\generic.py:3902\u001b[0m, in \u001b[0;36mNDFrame._take_with_is_copy\u001b[1;34m(self, indices, axis)\u001b[0m\n\u001b[0;32m   3894\u001b[0m \u001b[38;5;28;01mdef\u001b[39;00m \u001b[38;5;21m_take_with_is_copy\u001b[39m(\u001b[38;5;28mself\u001b[39m: NDFrameT, indices, axis\u001b[38;5;241m=\u001b[39m\u001b[38;5;241m0\u001b[39m) \u001b[38;5;241m-\u001b[39m\u001b[38;5;241m>\u001b[39m NDFrameT:\n\u001b[0;32m   3895\u001b[0m \u001b[38;5;250m    \u001b[39m\u001b[38;5;124;03m\"\"\"\u001b[39;00m\n\u001b[0;32m   3896\u001b[0m \u001b[38;5;124;03m    Internal version of the `take` method that sets the `_is_copy`\u001b[39;00m\n\u001b[0;32m   3897\u001b[0m \u001b[38;5;124;03m    attribute to keep track of the parent dataframe (using in indexing\u001b[39;00m\n\u001b[1;32m   (...)\u001b[0m\n\u001b[0;32m   3900\u001b[0m \u001b[38;5;124;03m    See the docstring of `take` for full explanation of the parameters.\u001b[39;00m\n\u001b[0;32m   3901\u001b[0m \u001b[38;5;124;03m    \"\"\"\u001b[39;00m\n\u001b[1;32m-> 3902\u001b[0m     result \u001b[38;5;241m=\u001b[39m \u001b[38;5;28mself\u001b[39m\u001b[38;5;241m.\u001b[39m_take(indices\u001b[38;5;241m=\u001b[39mindices, axis\u001b[38;5;241m=\u001b[39maxis)\n\u001b[0;32m   3903\u001b[0m     \u001b[38;5;66;03m# Maybe set copy if we didn't actually change the index.\u001b[39;00m\n\u001b[0;32m   3904\u001b[0m     \u001b[38;5;28;01mif\u001b[39;00m \u001b[38;5;129;01mnot\u001b[39;00m result\u001b[38;5;241m.\u001b[39m_get_axis(axis)\u001b[38;5;241m.\u001b[39mequals(\u001b[38;5;28mself\u001b[39m\u001b[38;5;241m.\u001b[39m_get_axis(axis)):\n",
      "File \u001b[1;32m~\\anaconda3\\Lib\\site-packages\\pandas\\core\\generic.py:3886\u001b[0m, in \u001b[0;36mNDFrame._take\u001b[1;34m(self, indices, axis, convert_indices)\u001b[0m\n\u001b[0;32m   3879\u001b[0m \u001b[38;5;250m\u001b[39m\u001b[38;5;124;03m\"\"\"\u001b[39;00m\n\u001b[0;32m   3880\u001b[0m \u001b[38;5;124;03mInternal version of the `take` allowing specification of additional args.\u001b[39;00m\n\u001b[0;32m   3881\u001b[0m \n\u001b[0;32m   3882\u001b[0m \u001b[38;5;124;03mSee the docstring of `take` for full explanation of the parameters.\u001b[39;00m\n\u001b[0;32m   3883\u001b[0m \u001b[38;5;124;03m\"\"\"\u001b[39;00m\n\u001b[0;32m   3884\u001b[0m \u001b[38;5;28mself\u001b[39m\u001b[38;5;241m.\u001b[39m_consolidate_inplace()\n\u001b[1;32m-> 3886\u001b[0m new_data \u001b[38;5;241m=\u001b[39m \u001b[38;5;28mself\u001b[39m\u001b[38;5;241m.\u001b[39m_mgr\u001b[38;5;241m.\u001b[39mtake(\n\u001b[0;32m   3887\u001b[0m     indices,\n\u001b[0;32m   3888\u001b[0m     axis\u001b[38;5;241m=\u001b[39m\u001b[38;5;28mself\u001b[39m\u001b[38;5;241m.\u001b[39m_get_block_manager_axis(axis),\n\u001b[0;32m   3889\u001b[0m     verify\u001b[38;5;241m=\u001b[39m\u001b[38;5;28;01mTrue\u001b[39;00m,\n\u001b[0;32m   3890\u001b[0m     convert_indices\u001b[38;5;241m=\u001b[39mconvert_indices,\n\u001b[0;32m   3891\u001b[0m )\n\u001b[0;32m   3892\u001b[0m \u001b[38;5;28;01mreturn\u001b[39;00m \u001b[38;5;28mself\u001b[39m\u001b[38;5;241m.\u001b[39m_constructor(new_data)\u001b[38;5;241m.\u001b[39m__finalize__(\u001b[38;5;28mself\u001b[39m, method\u001b[38;5;241m=\u001b[39m\u001b[38;5;124m\"\u001b[39m\u001b[38;5;124mtake\u001b[39m\u001b[38;5;124m\"\u001b[39m)\n",
      "File \u001b[1;32m~\\anaconda3\\Lib\\site-packages\\pandas\\core\\internals\\managers.py:978\u001b[0m, in \u001b[0;36mBaseBlockManager.take\u001b[1;34m(self, indexer, axis, verify, convert_indices)\u001b[0m\n\u001b[0;32m    975\u001b[0m     indexer \u001b[38;5;241m=\u001b[39m maybe_convert_indices(indexer, n, verify\u001b[38;5;241m=\u001b[39mverify)\n\u001b[0;32m    977\u001b[0m new_labels \u001b[38;5;241m=\u001b[39m \u001b[38;5;28mself\u001b[39m\u001b[38;5;241m.\u001b[39maxes[axis]\u001b[38;5;241m.\u001b[39mtake(indexer)\n\u001b[1;32m--> 978\u001b[0m \u001b[38;5;28;01mreturn\u001b[39;00m \u001b[38;5;28mself\u001b[39m\u001b[38;5;241m.\u001b[39mreindex_indexer(\n\u001b[0;32m    979\u001b[0m     new_axis\u001b[38;5;241m=\u001b[39mnew_labels,\n\u001b[0;32m    980\u001b[0m     indexer\u001b[38;5;241m=\u001b[39mindexer,\n\u001b[0;32m    981\u001b[0m     axis\u001b[38;5;241m=\u001b[39maxis,\n\u001b[0;32m    982\u001b[0m     allow_dups\u001b[38;5;241m=\u001b[39m\u001b[38;5;28;01mTrue\u001b[39;00m,\n\u001b[0;32m    983\u001b[0m     copy\u001b[38;5;241m=\u001b[39m\u001b[38;5;28;01mNone\u001b[39;00m,\n\u001b[0;32m    984\u001b[0m )\n",
      "File \u001b[1;32m~\\anaconda3\\Lib\\site-packages\\pandas\\core\\internals\\managers.py:743\u001b[0m, in \u001b[0;36mBaseBlockManager.reindex_indexer\u001b[1;34m(self, new_axis, indexer, axis, fill_value, allow_dups, copy, only_slice, use_na_proxy)\u001b[0m\n\u001b[0;32m    740\u001b[0m     \u001b[38;5;28;01mraise\u001b[39;00m \u001b[38;5;167;01mIndexError\u001b[39;00m(\u001b[38;5;124m\"\u001b[39m\u001b[38;5;124mRequested axis not found in manager\u001b[39m\u001b[38;5;124m\"\u001b[39m)\n\u001b[0;32m    742\u001b[0m \u001b[38;5;28;01mif\u001b[39;00m axis \u001b[38;5;241m==\u001b[39m \u001b[38;5;241m0\u001b[39m:\n\u001b[1;32m--> 743\u001b[0m     new_blocks, new_refs \u001b[38;5;241m=\u001b[39m \u001b[38;5;28mself\u001b[39m\u001b[38;5;241m.\u001b[39m_slice_take_blocks_ax0(\n\u001b[0;32m    744\u001b[0m         indexer,\n\u001b[0;32m    745\u001b[0m         fill_value\u001b[38;5;241m=\u001b[39mfill_value,\n\u001b[0;32m    746\u001b[0m         only_slice\u001b[38;5;241m=\u001b[39monly_slice,\n\u001b[0;32m    747\u001b[0m         use_na_proxy\u001b[38;5;241m=\u001b[39muse_na_proxy,\n\u001b[0;32m    748\u001b[0m     )\n\u001b[0;32m    749\u001b[0m     parent \u001b[38;5;241m=\u001b[39m \u001b[38;5;28;01mNone\u001b[39;00m \u001b[38;5;28;01mif\u001b[39;00m com\u001b[38;5;241m.\u001b[39mall_none(\u001b[38;5;241m*\u001b[39mnew_refs) \u001b[38;5;28;01melse\u001b[39;00m \u001b[38;5;28mself\u001b[39m\n\u001b[0;32m    750\u001b[0m \u001b[38;5;28;01melse\u001b[39;00m:\n",
      "File \u001b[1;32m~\\anaconda3\\Lib\\site-packages\\pandas\\core\\internals\\managers.py:912\u001b[0m, in \u001b[0;36mBaseBlockManager._slice_take_blocks_ax0\u001b[1;34m(self, slice_or_indexer, fill_value, only_slice, use_na_proxy)\u001b[0m\n\u001b[0;32m    910\u001b[0m         refs\u001b[38;5;241m.\u001b[39mappend(weakref\u001b[38;5;241m.\u001b[39mref(blk))\n\u001b[0;32m    911\u001b[0m \u001b[38;5;28;01melse\u001b[39;00m:\n\u001b[1;32m--> 912\u001b[0m     nb \u001b[38;5;241m=\u001b[39m blk\u001b[38;5;241m.\u001b[39mtake_nd(taker, axis\u001b[38;5;241m=\u001b[39m\u001b[38;5;241m0\u001b[39m, new_mgr_locs\u001b[38;5;241m=\u001b[39mmgr_locs)\n\u001b[0;32m    913\u001b[0m     blocks\u001b[38;5;241m.\u001b[39mappend(nb)\n\u001b[0;32m    914\u001b[0m     refs\u001b[38;5;241m.\u001b[39mappend(\u001b[38;5;28;01mNone\u001b[39;00m)\n",
      "File \u001b[1;32m~\\anaconda3\\Lib\\site-packages\\pandas\\core\\internals\\blocks.py:880\u001b[0m, in \u001b[0;36mBlock.take_nd\u001b[1;34m(self, indexer, axis, new_mgr_locs, fill_value)\u001b[0m\n\u001b[0;32m    877\u001b[0m     allow_fill \u001b[38;5;241m=\u001b[39m \u001b[38;5;28;01mTrue\u001b[39;00m\n\u001b[0;32m    879\u001b[0m \u001b[38;5;66;03m# Note: algos.take_nd has upcast logic similar to coerce_to_target_dtype\u001b[39;00m\n\u001b[1;32m--> 880\u001b[0m new_values \u001b[38;5;241m=\u001b[39m algos\u001b[38;5;241m.\u001b[39mtake_nd(\n\u001b[0;32m    881\u001b[0m     values, indexer, axis\u001b[38;5;241m=\u001b[39maxis, allow_fill\u001b[38;5;241m=\u001b[39mallow_fill, fill_value\u001b[38;5;241m=\u001b[39mfill_value\n\u001b[0;32m    882\u001b[0m )\n\u001b[0;32m    884\u001b[0m \u001b[38;5;66;03m# Called from three places in managers, all of which satisfy\u001b[39;00m\n\u001b[0;32m    885\u001b[0m \u001b[38;5;66;03m#  this assertion\u001b[39;00m\n\u001b[0;32m    886\u001b[0m \u001b[38;5;28;01massert\u001b[39;00m \u001b[38;5;129;01mnot\u001b[39;00m (axis \u001b[38;5;241m==\u001b[39m \u001b[38;5;241m0\u001b[39m \u001b[38;5;129;01mand\u001b[39;00m new_mgr_locs \u001b[38;5;129;01mis\u001b[39;00m \u001b[38;5;28;01mNone\u001b[39;00m)\n",
      "File \u001b[1;32m~\\anaconda3\\Lib\\site-packages\\pandas\\core\\array_algos\\take.py:117\u001b[0m, in \u001b[0;36mtake_nd\u001b[1;34m(arr, indexer, axis, fill_value, allow_fill)\u001b[0m\n\u001b[0;32m    114\u001b[0m     \u001b[38;5;28;01mreturn\u001b[39;00m arr\u001b[38;5;241m.\u001b[39mtake(indexer, fill_value\u001b[38;5;241m=\u001b[39mfill_value, allow_fill\u001b[38;5;241m=\u001b[39mallow_fill)\n\u001b[0;32m    116\u001b[0m arr \u001b[38;5;241m=\u001b[39m np\u001b[38;5;241m.\u001b[39masarray(arr)\n\u001b[1;32m--> 117\u001b[0m \u001b[38;5;28;01mreturn\u001b[39;00m _take_nd_ndarray(arr, indexer, axis, fill_value, allow_fill)\n",
      "File \u001b[1;32m~\\anaconda3\\Lib\\site-packages\\pandas\\core\\array_algos\\take.py:156\u001b[0m, in \u001b[0;36m_take_nd_ndarray\u001b[1;34m(arr, indexer, axis, fill_value, allow_fill)\u001b[0m\n\u001b[0;32m    150\u001b[0m out_shape \u001b[38;5;241m=\u001b[39m \u001b[38;5;28mtuple\u001b[39m(out_shape_)\n\u001b[0;32m    151\u001b[0m \u001b[38;5;28;01mif\u001b[39;00m arr\u001b[38;5;241m.\u001b[39mflags\u001b[38;5;241m.\u001b[39mf_contiguous \u001b[38;5;129;01mand\u001b[39;00m axis \u001b[38;5;241m==\u001b[39m arr\u001b[38;5;241m.\u001b[39mndim \u001b[38;5;241m-\u001b[39m \u001b[38;5;241m1\u001b[39m:\n\u001b[0;32m    152\u001b[0m     \u001b[38;5;66;03m# minor tweak that can make an order-of-magnitude difference\u001b[39;00m\n\u001b[0;32m    153\u001b[0m     \u001b[38;5;66;03m# for dataframes initialized directly from 2-d ndarrays\u001b[39;00m\n\u001b[0;32m    154\u001b[0m     \u001b[38;5;66;03m# (s.t. df.values is c-contiguous and df._mgr.blocks[0] is its\u001b[39;00m\n\u001b[0;32m    155\u001b[0m     \u001b[38;5;66;03m# f-contiguous transpose)\u001b[39;00m\n\u001b[1;32m--> 156\u001b[0m     out \u001b[38;5;241m=\u001b[39m np\u001b[38;5;241m.\u001b[39mempty(out_shape, dtype\u001b[38;5;241m=\u001b[39mdtype, order\u001b[38;5;241m=\u001b[39m\u001b[38;5;124m\"\u001b[39m\u001b[38;5;124mF\u001b[39m\u001b[38;5;124m\"\u001b[39m)\n\u001b[0;32m    157\u001b[0m \u001b[38;5;28;01melse\u001b[39;00m:\n\u001b[0;32m    158\u001b[0m     out \u001b[38;5;241m=\u001b[39m np\u001b[38;5;241m.\u001b[39mempty(out_shape, dtype\u001b[38;5;241m=\u001b[39mdtype)\n",
      "\u001b[1;31mMemoryError\u001b[0m: Unable to allocate 879. MiB for an array with shape (115228672, 1) and data type float64"
     ]
    }
   ],
   "source": [
    "from sklearn.model_selection import train_test_split\n",
    "from sklearn.discriminant_analysis import LinearDiscriminantAnalysis\n",
    "from sklearn.metrics import accuracy_score\n",
    "dt3_pandas=dt3.to_pandas()\n",
    "dt3_pandas['kanal_adı'] = dt3_pandas.groupby(['kanal_adı']).ngroup()\n",
    "x=dt3_pandas.iloc[:,0:3]\n",
    "y=dt3_pandas.iloc[:,3:4]\n",
    "X_train, X_test, y_train, y_test = train_test_split(x, y, test_size=0.2, random_state=42)\n",
    "\n",
    "#training lda model\n",
    "lda = LinearDiscriminantAnalysis(n_components=2)\n",
    "lda.fit(X_train, y_train)\n",
    "\n",
    "#predictions with using test dataset\n",
    "y_pred = lda.predict(X_test)\n",
    "\n",
    "accuracy = accuracy_score(y_test, y_pred)\n",
    "print(\"Accuracy score:\", accuracy)"
   ]
  }
 ],
 "metadata": {
  "kernelspec": {
   "display_name": "Python 3 (ipykernel)",
   "language": "python",
   "name": "python3"
  },
  "language_info": {
   "codemirror_mode": {
    "name": "ipython",
    "version": 3
   },
   "file_extension": ".py",
   "mimetype": "text/x-python",
   "name": "python",
   "nbconvert_exporter": "python",
   "pygments_lexer": "ipython3",
   "version": "3.11.4"
  }
 },
 "nbformat": 4,
 "nbformat_minor": 5
}
